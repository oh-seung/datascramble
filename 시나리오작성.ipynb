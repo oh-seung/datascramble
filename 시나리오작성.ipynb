{
 "cells": [
  {
   "cell_type": "markdown",
   "id": "5b3fd4ab",
   "metadata": {},
   "source": [
    "## db scramble 패키지\n",
    "\n",
    "1. 데이터 대체 (https://www.comworld.co.kr/news/articleView.html?idxno=49812)\n",
    "> 1) 데이터 스크램블 대상을 지정하여 처리함<br>\n",
    "&nbsp;&nbsp;&nbsp;&nbsp;  유형: 이름, 주소, 주민등록번호, 전화번호, 아이디, 패스워드, 날짜, 코드값, 위치값, 자동차번호판 <br>\n",
    "&nbsp;&nbsp;&nbsp;&nbsp;위에서 더 상세화 시킬 수 있음(기본주소와 상세주소, 전화번호앞,중간, 뒷자리<p>\n",
    "> 2) 대체값 연결성은 여부에 따라 연결형(비랜덤, 스크램블링 이전값은 변경 이후 다른값과 같아 진다)과 비연결형(랜덤)하게 지정이 가능<br>\n",
    "&nbsp;&nbsp;&nbsp;&nbsp;해당 방식은 참조 무결성을 유지할 수 있게 한다  \n",
    "> 3) 유일성 보장 : 유일성보장 방식 지정 여부, 연결성에 따라 값의 매핑을 가능하게 한다  \n",
    "> 4) 셔플링 : 코드값 형식에 활용, 데이터 분포를 유지할 수 있도록 함(ex: 주문100건, 취소10건이라면 스크램블링 이후에도 주문100건, 취소 10건을 유지함)  \n",
    "> 5) 암호화값 :  \n",
    "> 6) 사용자지정방식 : C,c,N,D,K (영문대문자,영문소문자,숫자값,소수점이하값,한국어)\n",
    "\n",
    "2. 데이터 평균화\n",
    "> 1) 대상 : 금액과 같은 숫자 값을 평균으로 맞추고, 최대값과 최소값을 정규분포를 통해 생성<p>\n",
    "> 2) https://www.tibco.com/ko/reference-center/what-is-data-masking<p>\n",
    "\n",
    "3. 데이터 마스킹\n",
    "> 1) 주요 자리에 특수문자로 변경"
   ]
  },
  {
   "cell_type": "markdown",
   "id": "4f9f5d94",
   "metadata": {},
   "source": [
    "#### 이름 스크램블\n",
    "1. 데이터  \n",
    "성씨 참조 : https://ko.wikipedia.org/wiki/%ED%95%9C%EA%B5%AD%EC%9D%98_%EC%84%B1%EC%94%A8  \n",
    "이름 참조 : https://koreanname.me/  \n",
    "-> 이름발생량을 정규분포를 통해 랜덤하게 선택할 수 있도록 생성함 <\n",
    "\n",
    "#### 주소 스크램블\n",
    "1. 데이터  \n",
    "지역별인구분포도 : https://www.index.go.kr/potal/main/EachDtlPageDetail.do?idx_cd=1007  \n",
    "도로명주소정보 : https://business.juso.go.kr/addrlink/attrbDBDwld/attrbDBDwldList.do?cPath=99MD  \n",
    "\n",
    "2. 주요 방식  \n",
    "지역별 인구 분포에 따라 주소가 변경될 수 있도록 함\n",
    "\n",
    "#### 날짜 스크램블\n",
    "1. 주요 형식\n",
    "정규분포를 활용하여 랜덤하게 선택하는 방식을 사용  \n",
    "최대, 최소, 평균 값을 유지함  \n",
    "계산시 1900-01-01을 '1'로 하여, 1일이 증가할 때 마다 +1씩 증가함  \n",
    "날짜형식을 지정할 수 있도록 함\n",
    "\n",
    "#### 전화번호 스크램블 규칙\n",
    "1. 주요 형식  \n",
    "앞자리는 지정된 규칙에 따라 생성하고, 지역번호와 휴대전화를 포함할지 여부를 지정할 수 있도록 함  \n",
    "중간자리와 뒷자리는 랜덤하게 지정함\n",
    "\n",
    "#### CI/DI (https://m.blog.naver.com/PostView.naver?isHttpsRedirect=true&blogId=dndlab&logNo=221506487620)\n",
    "1. 주요 형식\n",
    "> "
   ]
  },
  {
   "cell_type": "markdown",
   "id": "9193e05c",
   "metadata": {},
   "source": [
    "### 데이터 처리 방식\n",
    "1) DBMS PARALLEL EXECUTE : https://prodtool.tistory.com/33 <br>\n",
    "2) ray 활용 <br>"
   ]
  },
  {
   "cell_type": "code",
   "execution_count": null,
   "id": "63953522",
   "metadata": {},
   "outputs": [],
   "source": [
    "class dataManage:\n",
    "    \"\"\" 데이터 스크램블을 하기 위한 기초데이터를 관리하는 곳\"\"\"\n",
    "    def __init__(self):\n",
    "        pass\n",
    "    \n",
    "    def \n"
   ]
  },
  {
   "cell_type": "code",
   "execution_count": null,
   "id": "a37ba101",
   "metadata": {},
   "outputs": [],
   "source": [
    "class datascramble:\n",
    "    "
   ]
  },
  {
   "cell_type": "markdown",
   "id": "f62375cb",
   "metadata": {},
   "source": [
    "## 주소 변환"
   ]
  },
  {
   "cell_type": "code",
   "execution_count": 2,
   "id": "ba247a21",
   "metadata": {},
   "outputs": [],
   "source": [
    "import os"
   ]
  },
  {
   "cell_type": "code",
   "execution_count": 3,
   "id": "540626f1",
   "metadata": {},
   "outputs": [],
   "source": [
    "folderpath = r\"__data__\\202208_도로명주소 한글_전체분\"\n",
    "filelist = os.listdir(folderpath)"
   ]
  },
  {
   "cell_type": "code",
   "execution_count": 4,
   "id": "b2b87029",
   "metadata": {},
   "outputs": [
    {
     "name": "stdout",
     "output_type": "stream",
     "text": [
      "__data__\\202208_도로명주소 한글_전체분\\jibun_rnaddrkor_busan.txt\n",
      "__data__\\202208_도로명주소 한글_전체분\\jibun_rnaddrkor_chungbuk.txt\n",
      "__data__\\202208_도로명주소 한글_전체분\\jibun_rnaddrkor_chungnam.txt\n",
      "__data__\\202208_도로명주소 한글_전체분\\jibun_rnaddrkor_daegu.txt\n",
      "__data__\\202208_도로명주소 한글_전체분\\jibun_rnaddrkor_daejeon.txt\n",
      "__data__\\202208_도로명주소 한글_전체분\\jibun_rnaddrkor_gangwon.txt\n",
      "__data__\\202208_도로명주소 한글_전체분\\jibun_rnaddrkor_gwangju.txt\n",
      "__data__\\202208_도로명주소 한글_전체분\\jibun_rnaddrkor_gyeongbuk.txt\n",
      "__data__\\202208_도로명주소 한글_전체분\\jibun_rnaddrkor_gyeongnam.txt\n",
      "__data__\\202208_도로명주소 한글_전체분\\jibun_rnaddrkor_gyunggi.txt\n",
      "__data__\\202208_도로명주소 한글_전체분\\jibun_rnaddrkor_incheon.txt\n",
      "__data__\\202208_도로명주소 한글_전체분\\jibun_rnaddrkor_jeju.txt\n",
      "__data__\\202208_도로명주소 한글_전체분\\jibun_rnaddrkor_jeonbuk.txt\n",
      "__data__\\202208_도로명주소 한글_전체분\\jibun_rnaddrkor_jeonnam.txt\n",
      "__data__\\202208_도로명주소 한글_전체분\\jibun_rnaddrkor_sejong.txt\n",
      "__data__\\202208_도로명주소 한글_전체분\\jibun_rnaddrkor_seoul.txt\n",
      "__data__\\202208_도로명주소 한글_전체분\\jibun_rnaddrkor_ulsan.txt\n",
      "__data__\\202208_도로명주소 한글_전체분\\rnaddrkor_busan.txt\n",
      "__data__\\202208_도로명주소 한글_전체분\\rnaddrkor_chungbuk.txt\n",
      "__data__\\202208_도로명주소 한글_전체분\\rnaddrkor_chungnam.txt\n",
      "__data__\\202208_도로명주소 한글_전체분\\rnaddrkor_daegu.txt\n",
      "__data__\\202208_도로명주소 한글_전체분\\rnaddrkor_daejeon.txt\n",
      "__data__\\202208_도로명주소 한글_전체분\\rnaddrkor_gangwon.txt\n",
      "__data__\\202208_도로명주소 한글_전체분\\rnaddrkor_gwangju.txt\n",
      "__data__\\202208_도로명주소 한글_전체분\\rnaddrkor_gyeongbuk.txt\n",
      "__data__\\202208_도로명주소 한글_전체분\\rnaddrkor_gyeongnam.txt\n",
      "__data__\\202208_도로명주소 한글_전체분\\rnaddrkor_gyunggi.txt\n",
      "__data__\\202208_도로명주소 한글_전체분\\rnaddrkor_incheon.txt\n",
      "__data__\\202208_도로명주소 한글_전체분\\rnaddrkor_jeju.txt\n",
      "__data__\\202208_도로명주소 한글_전체분\\rnaddrkor_jeonbuk.txt\n",
      "__data__\\202208_도로명주소 한글_전체분\\rnaddrkor_jeonnam.txt\n",
      "__data__\\202208_도로명주소 한글_전체분\\rnaddrkor_sejong.txt\n",
      "__data__\\202208_도로명주소 한글_전체분\\rnaddrkor_seoul.txt\n",
      "__data__\\202208_도로명주소 한글_전체분\\rnaddrkor_ulsan.txt\n"
     ]
    }
   ],
   "source": [
    "fulldata = []\n",
    "for filename in filelist:\n",
    "    file = folderpath + '\\\\' + filename\n",
    "    print(file)\n",
    "    with open(file, 'r') as f:\n",
    "        while True:\n",
    "            rowdata = f.readline()\n",
    "            if not rowdata: break\n",
    "            rowdata = rowdata.split(\"|\")\n",
    "            #도로명관리번호, 법정동코드, 시도명, 시군구명, 읍면동명, 리명, 산여부, 번지, 호수, 도로명코드 = rowdata[0:10]\n",
    "            fulldata.append(rowdata[0:10])"
   ]
  },
  {
   "cell_type": "code",
   "execution_count": 5,
   "id": "5399cc58",
   "metadata": {
    "scrolled": true
   },
   "outputs": [
    {
     "data": {
      "text/plain": [
       "8246522"
      ]
     },
     "execution_count": 5,
     "metadata": {},
     "output_type": "execute_result"
    }
   ],
   "source": [
    "len(fulldata)"
   ]
  },
  {
   "cell_type": "code",
   "execution_count": 7,
   "id": "374e0420",
   "metadata": {},
   "outputs": [],
   "source": [
    "import pandas as pd"
   ]
  },
  {
   "cell_type": "code",
   "execution_count": 10,
   "id": "1706b74f",
   "metadata": {},
   "outputs": [],
   "source": [
    "df = pd.DataFrame(fulldata, columns=['도로명관리번호', '법정동코드', '시도명', '시군구명', '읍면동명', '리명', '산여부', '번지', '호수', '도로명코드'])"
   ]
  },
  {
   "cell_type": "code",
   "execution_count": 14,
   "id": "fd3bd711",
   "metadata": {},
   "outputs": [],
   "source": [
    "newdf = df[['법정동코드', '시도명', '시군구명', '읍면동명', '리명']].drop_duplicates()"
   ]
  },
  {
   "cell_type": "code",
   "execution_count": 18,
   "id": "c3541ed1",
   "metadata": {},
   "outputs": [],
   "source": [
    "newdf.reset_index(drop=True, inplace=True)"
   ]
  },
  {
   "cell_type": "code",
   "execution_count": 23,
   "id": "2de74bc0",
   "metadata": {},
   "outputs": [
    {
     "data": {
      "text/html": [
       "<div>\n",
       "<style scoped>\n",
       "    .dataframe tbody tr th:only-of-type {\n",
       "        vertical-align: middle;\n",
       "    }\n",
       "\n",
       "    .dataframe tbody tr th {\n",
       "        vertical-align: top;\n",
       "    }\n",
       "\n",
       "    .dataframe thead th {\n",
       "        text-align: right;\n",
       "    }\n",
       "</style>\n",
       "<table border=\"1\" class=\"dataframe\">\n",
       "  <thead>\n",
       "    <tr style=\"text-align: right;\">\n",
       "      <th></th>\n",
       "      <th>법정동코드</th>\n",
       "      <th>시도명</th>\n",
       "      <th>시군구명</th>\n",
       "      <th>읍면동명</th>\n",
       "      <th>리명</th>\n",
       "    </tr>\n",
       "  </thead>\n",
       "  <tbody>\n",
       "    <tr>\n",
       "      <th>11647</th>\n",
       "      <td>4146510200</td>\n",
       "      <td>경기도</td>\n",
       "      <td>용인시 수지구</td>\n",
       "      <td>죽전동</td>\n",
       "      <td></td>\n",
       "    </tr>\n",
       "    <tr>\n",
       "      <th>11648</th>\n",
       "      <td>4146510700</td>\n",
       "      <td>경기도</td>\n",
       "      <td>용인시 수지구</td>\n",
       "      <td>상현동</td>\n",
       "      <td></td>\n",
       "    </tr>\n",
       "    <tr>\n",
       "      <th>11649</th>\n",
       "      <td>4146510100</td>\n",
       "      <td>경기도</td>\n",
       "      <td>용인시 수지구</td>\n",
       "      <td>풍덕천동</td>\n",
       "      <td></td>\n",
       "    </tr>\n",
       "    <tr>\n",
       "      <th>11650</th>\n",
       "      <td>4146510600</td>\n",
       "      <td>경기도</td>\n",
       "      <td>용인시 수지구</td>\n",
       "      <td>성복동</td>\n",
       "      <td></td>\n",
       "    </tr>\n",
       "    <tr>\n",
       "      <th>11651</th>\n",
       "      <td>4146510300</td>\n",
       "      <td>경기도</td>\n",
       "      <td>용인시 수지구</td>\n",
       "      <td>동천동</td>\n",
       "      <td></td>\n",
       "    </tr>\n",
       "    <tr>\n",
       "      <th>11652</th>\n",
       "      <td>4146510400</td>\n",
       "      <td>경기도</td>\n",
       "      <td>용인시 수지구</td>\n",
       "      <td>고기동</td>\n",
       "      <td></td>\n",
       "    </tr>\n",
       "    <tr>\n",
       "      <th>11653</th>\n",
       "      <td>4146510500</td>\n",
       "      <td>경기도</td>\n",
       "      <td>용인시 수지구</td>\n",
       "      <td>신봉동</td>\n",
       "      <td></td>\n",
       "    </tr>\n",
       "  </tbody>\n",
       "</table>\n",
       "</div>"
      ],
      "text/plain": [
       "            법정동코드  시도명     시군구명  읍면동명 리명\n",
       "11647  4146510200  경기도  용인시 수지구   죽전동   \n",
       "11648  4146510700  경기도  용인시 수지구   상현동   \n",
       "11649  4146510100  경기도  용인시 수지구  풍덕천동   \n",
       "11650  4146510600  경기도  용인시 수지구   성복동   \n",
       "11651  4146510300  경기도  용인시 수지구   동천동   \n",
       "11652  4146510400  경기도  용인시 수지구   고기동   \n",
       "11653  4146510500  경기도  용인시 수지구   신봉동   "
      ]
     },
     "execution_count": 23,
     "metadata": {},
     "output_type": "execute_result"
    }
   ],
   "source": [
    "newdf[(newdf['시도명'] == '경기도') & (newdf['시군구명'] == '용인시 수지구')]"
   ]
  },
  {
   "cell_type": "code",
   "execution_count": 25,
   "id": "559b186e",
   "metadata": {},
   "outputs": [
    {
     "data": {
      "text/plain": [
       "0          부산광역시\n",
       "248         충청북도\n",
       "1730        충청남도\n",
       "3824       대구광역시\n",
       "4113       대전광역시\n",
       "4286         강원도\n",
       "5558       광주광역시\n",
       "5760        경상북도\n",
       "8816        경상남도\n",
       "10987        경기도\n",
       "12941      인천광역시\n",
       "13194    제주특별자치도\n",
       "13378       전라북도\n",
       "15077       전라남도\n",
       "17794    세종특별자치시\n",
       "17926      서울특별시\n",
       "18392      울산광역시\n",
       "Name: 시도명, dtype: object"
      ]
     },
     "execution_count": 25,
     "metadata": {},
     "output_type": "execute_result"
    }
   ],
   "source": [
    "newdf['시도명'].drop_duplicates()"
   ]
  }
 ],
 "metadata": {
  "kernelspec": {
   "display_name": "Python 3 (ipykernel)",
   "language": "python",
   "name": "python3"
  },
  "language_info": {
   "codemirror_mode": {
    "name": "ipython",
    "version": 3
   },
   "file_extension": ".py",
   "mimetype": "text/x-python",
   "name": "python",
   "nbconvert_exporter": "python",
   "pygments_lexer": "ipython3",
   "version": "3.9.7"
  }
 },
 "nbformat": 4,
 "nbformat_minor": 5
}
